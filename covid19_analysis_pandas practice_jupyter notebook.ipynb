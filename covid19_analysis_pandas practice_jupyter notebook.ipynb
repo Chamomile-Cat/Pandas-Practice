{
 "cells": [
  {
   "cell_type": "code",
   "execution_count": 2,
   "metadata": {},
   "outputs": [],
   "source": [
    "# import packages\n",
    "import numpy as np\n",
    "import pandas as pd\n",
    "import matplotlib.pyplot as plt"
   ]
  },
  {
   "cell_type": "code",
   "execution_count": 10,
   "metadata": {},
   "outputs": [],
   "source": [
    "# read file\n",
    "covid_data = pd.read_csv(r'C:\\covid19.csv', encoding='UTF-8')"
   ]
  },
  {
   "cell_type": "code",
   "execution_count": 4,
   "metadata": {},
   "outputs": [
    {
     "data": {
      "text/plain": [
       "'United States of America'"
      ]
     },
     "execution_count": 4,
     "metadata": {},
     "output_type": "execute_result"
    }
   ],
   "source": [
    "# Country with maximum number of cases\n",
    "index_number = covid_data['Cases'].idxmax()\n",
    "take = covid_data['Country']\n",
    "take[index_number]"
   ]
  },
  {
   "cell_type": "code",
   "execution_count": 5,
   "metadata": {},
   "outputs": [
    {
     "data": {
      "image/png": "[encoded data removed]",
      "text/plain": [
       "<Figure size 640x480 with 1 Axes>"
      ]
     },
     "metadata": {},
     "output_type": "display_data"
    }
   ],
   "source": [
    "# Histogram of country/deaths\n",
    "x=covid_data['Country']\n",
    "y=covid_data['Deaths']\n",
    "plt.bar(x, y) # x와 y에 Series가 들어갈 수 있음\n",
    "plt.show()"
   ]
  },
  {
   "cell_type": "code",
   "execution_count": 6,
   "metadata": {},
   "outputs": [],
   "source": [
    "# 사망률 추가\n",
    "covid_data['Death Rate'] = covid_data['Deaths'] / covid_data['Cases']*100"
   ]
  },
  {
   "cell_type": "code",
   "execution_count": 7,
   "metadata": {},
   "outputs": [],
   "source": [
    "# 나라 데이터 검색하기\n",
    "def search_death_rate_rank():\n",
    "    country_name = input('What country do you want to search? ')\n",
    "    sort_data = covid_data.sort_values(['Death Rate'], ascending=False)\n",
    "    rank_number = sort_data[sort_data['Country'] == country_name].index[0] # element에서 index 구하기\n",
    "    rank_number += 1\n",
    "    print('Your country has the {}th highest death rate'.format(rank_number))"
   ]
  },
  {
   "cell_type": "code",
   "execution_count": 8,
   "metadata": {},
   "outputs": [
    {
     "data": {
      "text/html": [
       "<div>\n",
       "<style scoped>\n",
       "    .dataframe tbody tr th:only-of-type {\n",
       "        vertical-align: middle;\n",
       "    }\n",
       "\n",
       "    .dataframe tbody tr th {\n",
       "        vertical-align: top;\n",
       "    }\n",
       "\n",
       "    .dataframe thead th {\n",
       "        text-align: right;\n",
       "    }\n",
       "</style>\n",
       "<table border=\"1\" class=\"dataframe\">\n",
       "  <thead>\n",
       "    <tr style=\"text-align: right;\">\n",
       "      <th></th>\n",
       "      <th>Country</th>\n",
       "      <th>Death Rate</th>\n",
       "    </tr>\n",
       "  </thead>\n",
       "  <tbody>\n",
       "    <tr>\n",
       "      <th>79</th>\n",
       "      <td>Italy</td>\n",
       "      <td>11.749471</td>\n",
       "    </tr>\n",
       "  </tbody>\n",
       "</table>\n",
       "</div>"
      ],
      "text/plain": [
       "   Country  Death Rate\n",
       "79   Italy   11.749471"
      ]
     },
     "execution_count": 8,
     "metadata": {},
     "output_type": "execute_result"
    }
   ],
   "source": [
    "# 조건부 사망률 인덱싱\n",
    "picked_series = covid_data[(covid_data['Death Rate']>10) & (covid_data['Cases'] >1000)]\n",
    "picked_series = picked_series.sort_values(by='Death Rate', ascending=False) # 변수 관리가 포인트\n",
    "picked_series[['Country', 'Death Rate']]"
   ]
  },
  {
   "cell_type": "code",
   "execution_count": 20,
   "metadata": {},
   "outputs": [
    {
     "name": "stdout",
     "output_type": "stream",
     "text": [
      "More inside than from outside\n"
     ]
    }
   ],
   "source": [
    "# compare 'local transmission' and 'imported cases only'\n",
    "local_only = covid_data[covid_data['Transmission'] == 'Local transmission']\n",
    "imported_only = covid_data[covid_data['Transmission'] == 'Imported cases only']\n",
    "\n",
    "if local_only['Cases'].mean() >= imported_only['Cases'].mean():\n",
    "    print('More inside than from outside')\n",
    "if local_only['Cases'].mean() <= imported_only['Cases'].mean():\n",
    "    print('More outside than inside')"
   ]
  },
  {
   "cell_type": "code",
   "execution_count": 22,
   "metadata": {},
   "outputs": [
    {
     "data": {
      "text/plain": [
       "dtype('O')"
      ]
     },
     "execution_count": 22,
     "metadata": {},
     "output_type": "execute_result"
    }
   ],
   "source": [
    "# check if diff data\n",
    "\n"
   ]
  }
 ],
 "metadata": {
  "kernelspec": {
   "display_name": "Python 3",
   "language": "python",
   "name": "python3"
  },
  "language_info": {
   "codemirror_mode": {
    "name": "ipython",
    "version": 3
   },
   "file_extension": ".py",
   "mimetype": "text/x-python",
   "name": "python",
   "nbconvert_exporter": "python",
   "pygments_lexer": "ipython3",
   "version": "3.11.1"
  },
  "orig_nbformat": 4,
  "vscode": {
   "interpreter": {
    "hash": "3c4f1d380ec591ab9e44a7425913f70353e8b23ef4962a1509ad81b6808d322a"
   }
  }
 },
 "nbformat": 4,
 "nbformat_minor": 2
}
